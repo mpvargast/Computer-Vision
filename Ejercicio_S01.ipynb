{
  "nbformat": 4,
  "nbformat_minor": 0,
  "metadata": {
    "colab": {
      "provenance": [],
      "authorship_tag": "ABX9TyPDkV24fiQvxv9mOA88d3an"
    },
    "kernelspec": {
      "name": "python3",
      "display_name": "Python 3"
    },
    "language_info": {
      "name": "python"
    }
  },
  "cells": [
    {
      "cell_type": "markdown",
      "source": [
        "# **Ejercicio Semana 1: Generación de imágenes**\n",
        "\n",
        "Visión por Computador\n",
        "\n",
        "Ingeniería Agronómica\n",
        "\n",
        "Monica Paola Vargas Tirado"
      ],
      "metadata": {
        "id": "MfyRMauZ8RIF"
      }
    },
    {
      "cell_type": "code",
      "execution_count": null,
      "metadata": {
        "id": "HNq7Wu2yYvRp"
      },
      "outputs": [],
      "source": [
        "import cv2\n",
        "import numpy as np\n",
        "from google.colab.patches import cv2_imshow"
      ]
    },
    {
      "cell_type": "markdown",
      "source": [
        "# **Dibujar una línea**"
      ],
      "metadata": {
        "id": "dpKRPKPocvZa"
      }
    },
    {
      "cell_type": "code",
      "source": [
        "A = 300\n",
        "L = 300"
      ],
      "metadata": {
        "id": "iTtD8uyEZGky"
      },
      "execution_count": null,
      "outputs": []
    },
    {
      "cell_type": "code",
      "source": [
        "im = np.zeros( (A, L), np.uint8)"
      ],
      "metadata": {
        "id": "Wg28wjEAbZwu"
      },
      "execution_count": null,
      "outputs": []
    },
    {
      "cell_type": "code",
      "source": [
        "for i in range (A): im[i,i]=255\n",
        "\n",
        "cv2_imshow(im)"
      ],
      "metadata": {
        "colab": {
          "base_uri": "https://localhost:8080/",
          "height": 317
        },
        "id": "fKMY8mNobwqF",
        "outputId": "82c7a2f4-607b-4c47-c5ab-4ace6cb158cd"
      },
      "execution_count": null,
      "outputs": [
        {
          "output_type": "display_data",
          "data": {
            "text/plain": [
              "<PIL.Image.Image image mode=L size=300x300>"
            ],
            "image/png": "[encoded data removed]"
          },
          "metadata": {}
        }
      ]
    },
    {
      "cell_type": "markdown",
      "source": [
        "# **Dibujar cuadros**"
      ],
      "metadata": {
        "id": "akDarJzdaY_f"
      }
    },
    {
      "cell_type": "code",
      "source": [
        "im = np.zeros( (A, L, 3), np.uint8)\n",
        "\n",
        "# Dibujar cuadros usando librerias de CV\n",
        "cv2.rectangle(im, (50, 50), (250, 250), (0, 0, 255), -1) # Rojo\n",
        "cv2.rectangle(im, (75, 75), (225, 225), (0, 255, 0), -1) # Verde\n",
        "cv2.rectangle(im, (100, 100), (200, 200), (255, 0, 0), -1) # Azul\n",
        "cv2.rectangle(im, (125, 125), (175, 175), (0, 0, 0), -1) # Negro\n",
        "\n",
        "cv2_imshow(im)\n"
      ],
      "metadata": {
        "colab": {
          "base_uri": "https://localhost:8080/",
          "height": 317
        },
        "id": "ulIZuzofaf-s",
        "outputId": "79d595dc-0c66-4dd4-cb91-ff4f0c8230a1"
      },
      "execution_count": null,
      "outputs": [
        {
          "output_type": "display_data",
          "data": {
            "text/plain": [
              "<PIL.Image.Image image mode=RGB size=300x300>"
            ],
            "image/png": "[encoded data removed]"
          },
          "metadata": {}
        }
      ]
    },
    {
      "cell_type": "markdown",
      "source": [
        "# **Dibujar una figura en degradado**"
      ],
      "metadata": {
        "id": "UdVq_8FJaDZ1"
      }
    },
    {
      "cell_type": "code",
      "source": [
        "# Generar un cuadro negro de 300x300\n",
        "im = np.zeros((A, L, 3), np.uint8)\n",
        "\n",
        "# Definir la secuencia de guiones\n",
        "for row in range(0, A, 3):\n",
        "    for col in range(9, L, 14):\n",
        "        if row % 6 == 0:\n",
        "            color_value = int((row / 300) * 255)\n",
        "            im[row, col:col+6] = (color_value, 255 - color_value, 255)\n",
        "\n",
        "# Definir la secuencia de puntos\n",
        "for row in range(2, A, 1):\n",
        "    for col in range(8, L, 7):\n",
        "        if row % 6 == 2:\n",
        "            color_value = int((row / 300) * 255)\n",
        "            im[row, col] = (color_value, 255 - color_value, 255)\n",
        "\n",
        "cv2_imshow(im)"
      ],
      "metadata": {
        "colab": {
          "base_uri": "https://localhost:8080/",
          "height": 317
        },
        "id": "PtJLBcKyV_JE",
        "outputId": "ed38b6bb-d187-49a9-cc2a-330b2b4aa6bd"
      },
      "execution_count": null,
      "outputs": [
        {
          "output_type": "display_data",
          "data": {
            "text/plain": [
              "<PIL.Image.Image image mode=RGB size=300x300>"
            ],
            "image/png": "[encoded data removed]"
          },
          "metadata": {}
        }
      ]
    },
    {
      "cell_type": "markdown",
      "source": [
        "# **Dibujar la función Seno**"
      ],
      "metadata": {
        "id": "AfO-6SWVDM51"
      }
    },
    {
      "cell_type": "code",
      "source": [
        "# Crear una imagen en blanco\n",
        "im = np.zeros((L, A, 3), np.uint8)\n",
        "\n",
        "# Definir el número de líneas horizontales (y su frecuencia) basadas en la función seno\n",
        "num_lines = 10\n",
        "frequency = 20  # Frecuencia de la onda seno\n",
        "\n",
        "# Dibujar las líneas horizontales que siguen una función seno\n",
        "for i in range(num_lines):\n",
        "    amplitude = int(L / (50))  # La amplitud de la línea varía con la frecuencia\n",
        "    y_offset = L // (num_lines + 1) * (i + 1)\n",
        "\n",
        "    # Generar puntos basados en la función seno\n",
        "    x = np.arange(0, A)\n",
        "    y = amplitude * np.sin(2 * np.pi * frequency * x / A) + y_offset\n",
        "\n",
        "    # Convertir los puntos a enteros\n",
        "    points = np.column_stack((x, y)).astype(np.int32)\n",
        "\n",
        "    # Calcular un color degradado\n",
        "    color_start = (255, 0, 0)  # Color inicial (azul)\n",
        "    color_end = (0, 255, 0)    # Color final (rojo)\n",
        "    color = tuple(int(start + (end - start) * i / num_lines) for start, end in zip(color_start, color_end))\n",
        "\n",
        "    # Dibujar la línea\n",
        "    cv2.polylines(im, [points], isClosed=False, color=color, thickness=1)\n",
        "\n",
        "# Mostrar la imagen\n",
        "cv2_imshow(im)"
      ],
      "metadata": {
        "colab": {
          "base_uri": "https://localhost:8080/",
          "height": 317
        },
        "id": "HQFsEnZJDSBx",
        "outputId": "7c24a20e-abc7-4434-c0ee-ce6bb4a71170"
      },
      "execution_count": null,
      "outputs": [
        {
          "output_type": "display_data",
          "data": {
            "text/plain": [
              "<PIL.Image.Image image mode=RGB size=300x300>"
            ],
            "image/png": "[encoded data removed]"
          },
          "metadata": {}
        }
      ]
    }
  ]
}