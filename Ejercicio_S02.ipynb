{
  "nbformat": 4,
  "nbformat_minor": 0,
  "metadata": {
    "colab": {
      "provenance": [],
      "authorship_tag": "ABX9TyPCUB4hMYCA+DNnB4hrph5T"
    },
    "kernelspec": {
      "name": "python3",
      "display_name": "Python 3"
    },
    "language_info": {
      "name": "python"
    }
  },
  "cells": [
    {
      "cell_type": "markdown",
      "source": [
        "# **Ejercicio Semana 2: Funciones de transformaciones 2D**\n",
        "\n",
        "Visión por Computador\n",
        "\n",
        "Ingeniería Agronómica\n",
        "\n",
        "Monica Paola Vargas Tirado"
      ],
      "metadata": {
        "id": "svwd1Hg6E-U1"
      }
    },
    {
      "cell_type": "code",
      "source": [
        "from google.colab.patches import cv2_imshow\n",
        "import numpy as np\n",
        "import cv2 as cv"
      ],
      "metadata": {
        "id": "b4klKoCaFY8N"
      },
      "execution_count": null,
      "outputs": []
    },
    {
      "cell_type": "code",
      "execution_count": null,
      "metadata": {
        "colab": {
          "base_uri": "https://localhost:8080/",
          "height": 517
        },
        "id": "F7CWavsLUj89",
        "outputId": "8f873e93-ac97-49de-b8df-6154dff4e246"
      },
      "outputs": [
        {
          "output_type": "display_data",
          "data": {
            "text/plain": [
              "<PIL.Image.Image image mode=RGB size=500x500>"
            ],
            "image/png": "[encoded data removed]"
          },
          "metadata": {}
        }
      ],
      "source": [
        "def draw_triangle(im, triangle, color=(0,255,0)):\n",
        "    # Normalizar coordenadas homogeneas\n",
        "    triangle = np.array([ v[:-1]/v[-1] for v in triangle] , np.uint16)\n",
        "    cv.drawContours(im, [triangle.astype(int)], 0, color, -1)\n",
        "    for v in triangle:\n",
        "        cv.circle(im, tuple(v), 2, (255,0,255),-1)\n",
        "\n",
        "def scale(vertex, sx, sy):\n",
        "    scale_matrix = np.array([[sx, 0, 0],\n",
        "                            [0, sy, 0],\n",
        "                            [0, 0, 1]])\n",
        "\n",
        "    # Aplicar la matriz de traslación al triángulo\n",
        "    scale_triangle = np.dot(scale_matrix, vertex.T).T # T : Para transponer\n",
        "\n",
        "    return scale_triangle\n",
        "\n",
        "def rotate(vertex, a):\n",
        "    # Convertir el ángulo a radianes\n",
        "    a = np.radians(a)\n",
        "\n",
        "    # Crear la matriz de rotación\n",
        "    rotation_matrix = np.array([[np.cos(a), -np.sin(a), 0],\n",
        "                                [np.sin(a), np.cos(a), 0],\n",
        "                                [0, 0, 1]])\n",
        "\n",
        "    # Aplicar la matriz de rotación al triángulo\n",
        "    rotated_triangle = np.dot(rotation_matrix, vertex.T).T\n",
        "\n",
        "    return rotated_triangle\n",
        "\n",
        "def translate(vertex, dx, dy):\n",
        "    translation_matrix = np.array([[1, 0, dx],\n",
        "                                    [0, 1, dy],\n",
        "                                    [0, 0, 1]])\n",
        "\n",
        "    # Aplicar la matriz de traslación al triángulo\n",
        "    translated_triangle = np.dot(translation_matrix, vertex.T).T\n",
        "\n",
        "    return translated_triangle\n",
        "\n",
        "# Tamaño de la imagen\n",
        "w = 500\n",
        "h = 500\n",
        "im = np.zeros((h,w,3), np.uint8)\n",
        "\n",
        "# Parametros de las transformaciones\n",
        "# Traslada a centro y realiza escala y rotacion\n",
        "angle = 30\n",
        "s = 3\n",
        "t = 250\n",
        "# Sistema coordenado de imagenes\n",
        "triangle1 = np.array( [[10,10,1], [70,10,1], [40, 60,1]])\n",
        "triangle2 = translate(rotate( scale(translate(triangle1, -40,-30),s,s) ,angle), t,t)\n",
        "\n",
        "\n",
        "draw_triangle(im, triangle1)\n",
        "draw_triangle(im, triangle2, color= (0,100,255))\n",
        "\n",
        "\n",
        "cv2_imshow(im)\n"
      ]
    }
  ]
}