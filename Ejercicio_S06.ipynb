{
  "cells": [
    {
      "cell_type": "markdown",
      "metadata": {
        "id": "xEtqcqQqVSo7"
      },
      "source": [
        "\n",
        "# **Ejercicio Semana 6: Características en Imágenes**\n",
        "Visión por Computador\n",
        "\n",
        "Ingeniería Agronómica\n",
        "\n",
        "Monica Paola Vargas Tirado"
      ]
    },
    {
      "cell_type": "code",
      "execution_count": null,
      "metadata": {
        "colab": {
          "base_uri": "https://localhost:8080/"
        },
        "id": "wbZr_GnVt9-p",
        "outputId": "8a76b3d7-8c8d-4969-8262-359d51cedcdf"
      },
      "outputs": [
        {
          "output_type": "stream",
          "name": "stdout",
          "text": [
            "Mounted at /content/drive\n"
          ]
        }
      ],
      "source": [
        "from google.colab import drive\n",
        "drive.mount('/content/drive')"
      ]
    },
    {
      "cell_type": "code",
      "execution_count": null,
      "metadata": {
        "colab": {
          "base_uri": "https://localhost:8080/",
          "height": 512
        },
        "id": "O3Hvit09Vdf5",
        "outputId": "63df5cee-e835-425b-f1f3-8056d0334775"
      },
      "outputs": [],
      "source": [
        "import cv2\n",
        "import numpy as np\n",
        "from google.colab.patches import cv2_imshow\n",
        "\n",
        "%cd /content/drive/MyDrive/UNIVERSIDAD EAFIT/VISION POR COMPUTADOR/EJERCICIOS/Dataset/\n",
        "\n",
        "# Cargar las imágenes\n",
        "img1 = cv2.imread('Imagen_1.jpeg')\n",
        "img2 = cv2.imread('Imagen_2.jpeg')\n",
        "\n",
        "def create_panoramica(img1, img2):\n",
        "    # Inicializar el detector ORB\n",
        "    orb = cv2.ORB_create()\n",
        "\n",
        "    # Encontrar los puntos clave y sus descriptores para ambas imágenes\n",
        "    keypoints1, descriptors1 = orb.detectAndCompute(img1, None)\n",
        "    keypoints2, descriptors2 = orb.detectAndCompute(img2, None)\n",
        "\n",
        "    # Inicializar el objeto de coincidencia de fuerza bruta\n",
        "    bf = cv2.BFMatcher(cv2.NORM_HAMMING, crossCheck=True)\n",
        "\n",
        "    # Realizar la coincidencia de los descriptores\n",
        "    matches = bf.match(descriptors1, descriptors2)\n",
        "\n",
        "    # Ordenar las coincidencias por distancia\n",
        "    matches = sorted(matches, key=lambda x: x.distance)\n",
        "\n",
        "    # Elegir solo las mejores coincidencias\n",
        "    good_matches = matches[:50]  # Puedes ajustar este número según tus necesidades\n",
        "\n",
        "    # Dibujar los emparejamientos en una nueva imagen\n",
        "    matching_result = cv2.drawMatches(img1, keypoints1, img2, keypoints2, good_matches, None, flags=cv2.DrawMatchesFlags_NOT_DRAW_SINGLE_POINTS)\n",
        "\n",
        "    # Convertir los puntos clave en formato numpy array\n",
        "    src_pts = np.float32([keypoints1[m.queryIdx].pt for m in good_matches]).reshape(-1, 1, 2)\n",
        "    dst_pts = np.float32([keypoints2[m.trainIdx].pt for m in good_matches]).reshape(-1, 1, 2)\n",
        "\n",
        "    # Calcular la matriz de homografía\n",
        "    H, _ = cv2.findHomography(dst_pts, src_pts, cv2.RANSAC, 5.0)\n",
        "\n",
        "    # Deformar la segunda imagen para alinearla con la primera\n",
        "    img2_aligned = cv2.warpPerspective(img2, H, (img1.shape[1] + img2.shape[1], img1.shape[0]))\n",
        "\n",
        "    # Superponer las imágenes\n",
        "    img2_aligned[0:img1.shape[0], 0:img1.shape[1]] = img1\n",
        "\n",
        "    return img2_aligned, matching_result\n",
        "\n",
        "# Crear la foto panorámica y obtener los emparejamientos dibujados\n",
        "panoramica, matching_result = create_panoramica(img1, img2)\n",
        "\n",
        "# Mostrar la foto panorámica y los emparejamientos\n",
        "cv2_imshow(matching_result)"
      ]
    },
    {
      "cell_type": "code",
      "execution_count": null,
      "metadata": {
        "id": "A6GTpAhrwayc",
        "colab": {
          "base_uri": "https://localhost:8080/",
          "height": 495
        },
        "outputId": "d5feb562-b7ec-4e63-8c6b-bbbf3d58c163"
      },
      "outputs": [],
      "source": [
        "cv2_imshow(panoramica)"
      ]
    }
  ],
  "metadata": {
    "colab": {
      "provenance": [],
      "authorship_tag": "ABX9TyOzP1Rwtbk6E2uzoTyJayHV"
    },
    "kernelspec": {
      "display_name": "Python 3",
      "name": "python3"
    },
    "language_info": {
      "name": "python"
    }
  },
  "nbformat": 4,
  "nbformat_minor": 0
}