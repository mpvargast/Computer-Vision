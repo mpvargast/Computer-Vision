{
  "nbformat": 4,
  "nbformat_minor": 0,
  "metadata": {
    "colab": {
      "provenance": [],
      "authorship_tag": "ABX9TyPdlNOfEhgG561iQ+WZsPCM"
    },
    "kernelspec": {
      "name": "python3",
      "display_name": "Python 3"
    },
    "language_info": {
      "name": "python"
    }
  },
  "cells": [
    {
      "cell_type": "markdown",
      "source": [
        "# **Ejercicio Semana 3: Proyecciones**\n",
        "\n",
        "Visión por Computador\n",
        "\n",
        "Ingeniería Agronómica\n",
        "\n",
        "Monica Paola Vargas Tirado"
      ],
      "metadata": {
        "id": "HF4iQ7g8P3Cl"
      }
    },
    {
      "cell_type": "code",
      "source": [
        "import numpy as np\n",
        "import cv2 as cv\n",
        "from google.colab.patches import cv2_imshow"
      ],
      "metadata": {
        "id": "fOAhW3V4Gg_V"
      },
      "execution_count": null,
      "outputs": []
    },
    {
      "cell_type": "code",
      "source": [
        "import numpy as np\n",
        "import cv2 as cv\n",
        "from google.colab.patches import cv2_imshow\n",
        "\n",
        "# Funciones\n",
        "def draw(vertices, edges, im):\n",
        "    \"\"\"Dibuja objeto definido por vertices y bordes\"\"\"\n",
        "    # Normalizar coordenadas homogeneas\n",
        "    v_h = np.array([ v[:-2]/v[-1] for v in vertices])\n",
        "    for e in edges:\n",
        "        cv.line(im, tuple(v_h[e[0]].astype(int)), tuple(v_h[e[1]].astype(int)), (255,0,15), 2)\n",
        "    for v in v_h:\n",
        "        cv.circle(im, tuple(v.astype(int)), 3, (255,0,255),-1)\n",
        "\n",
        "def translate3d(vertex, dx, dy, dz):\n",
        "    translation_matrix = np.array([[1, 0, 0, dx],\n",
        "                                    [0, 1, 0, dy],\n",
        "                                    [0, 0, 1,dz],\n",
        "                                    [0,0,0,1]])\n",
        "\n",
        "    # Aplicar la matriz de traslación al cuadro\n",
        "    traslate_cu = np.dot(translation_matrix, vertex.T).T\n",
        "\n",
        "    return traslate_cu\n",
        "\n",
        "def project2D(vertex, f=35):\n",
        "    \"\"\"Aplica una transformacion de proyeccion pinhole\"\"\"\n",
        "    project_matrix = np.array([[1, 0, 0, 0],\n",
        "                                [0, 1, 0, 0],\n",
        "                                [0, 0, 1,0],\n",
        "                                [0,0,1/f,1]])\n",
        "\n",
        "    # Aplicar la matriz de traslación al cuadro\n",
        "    project_cu = np.dot(project_matrix, vertex.T).T\n",
        "\n",
        "    return project_cu\n",
        "\n",
        "\n",
        "# Definir geometría\n",
        "# Cubo definido en su sistema coordenado\n",
        "# Lista de vertices [[x, y, z,1], ...\n",
        "# List de bordes que relacionan los indices de los vertices\n",
        "# [(0,1), (1,2), ....\n",
        "v = np.array([[0,100,100,1],[0,100,0,1],[100,100,0,1],[100,0,0,1],[100,0,100,1],[0,0,100,1],[0,0,0,1],[100,100,100,1]])\n",
        "edges = [(0,1),(1,2),(2,3),(3,4),(4,5),(5,0),(5,6),(1,6),(6,3),(7,4),(0,7),(7,2)]\n",
        "\n",
        "\n",
        "\n",
        "# Parametros camara\n",
        "f = 200 # Distancia focal\n",
        "# Tamano imagen\n",
        "w = 500\n",
        "h = 500\n",
        "\n",
        "\n",
        "\n",
        "# Trasladar la proyección al centro de la imagen\n",
        "v_p = translate3d(project2D(translate3d(v,100,200,50),255),255,200,50)\n",
        "\n",
        "# Dibujar y mostrar\n",
        "im = np.zeros((h,w,3), np.uint8)\n",
        "draw(v_p, edges, im)\n",
        "cv2_imshow(im)"
      ],
      "metadata": {
        "colab": {
          "base_uri": "https://localhost:8080/",
          "height": 517
        },
        "id": "kl7vY9ACexhG",
        "outputId": "b0bf7171-5093-427d-d16e-c6b7ce6378e6"
      },
      "execution_count": null,
      "outputs": [
        {
          "output_type": "display_data",
          "data": {
            "text/plain": [
              "<PIL.Image.Image image mode=RGB size=500x500>"
            ],
            "image/png": "[encoded data removed]"
          },
          "metadata": {}
        }
      ]
    }
  ]
}